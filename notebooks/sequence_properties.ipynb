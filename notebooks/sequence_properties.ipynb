{
 "cells": [
  {
   "cell_type": "markdown",
   "id": "ca86bdd3",
   "metadata": {},
   "source": [
    "# ACE Exploration: Peptide Feature Similarities Exploration"
   ]
  },
  {
   "cell_type": "markdown",
   "id": "8551a6f5",
   "metadata": {},
   "source": [
    "### Dhuvarakesh Karthikeyan and Jin Seok (Andy) Lee"
   ]
  },
  {
   "cell_type": "code",
   "execution_count": 194,
   "id": "32bfc610",
   "metadata": {},
   "outputs": [],
   "source": [
    "#Import Dependencies\n",
    "\n",
    "import re\n",
    "import numpy as np\n",
    "import pandas as pd\n",
    "import matplotlib.pyplot as plt\n",
    "import random\n",
    "\n",
    "from collections import Counter\n",
    "import torch\n",
    "import torch.nn as nn\n",
    "from transformers import BertModel, BertTokenizer"
   ]
  },
  {
   "cell_type": "code",
   "execution_count": 6,
   "id": "9c7156ed",
   "metadata": {},
   "outputs": [
    {
     "data": {
      "application/vnd.jupyter.widget-view+json": {
       "model_id": "e30e26029ec747eeb278ee00836a29ff",
       "version_major": 2,
       "version_minor": 0
      },
      "text/plain": [
       "Downloading:   0%|          | 0.00/1.68G [00:00<?, ?B/s]"
      ]
     },
     "metadata": {},
     "output_type": "display_data"
    },
    {
     "name": "stderr",
     "output_type": "stream",
     "text": [
      "Some weights of the model checkpoint at Rostlab/prot_bert were not used when initializing BertModel: ['cls.predictions.decoder.bias', 'cls.seq_relationship.weight', 'cls.predictions.transform.dense.bias', 'cls.predictions.bias', 'cls.seq_relationship.bias', 'cls.predictions.transform.LayerNorm.weight', 'cls.predictions.transform.LayerNorm.bias', 'cls.predictions.transform.dense.weight', 'cls.predictions.decoder.weight']\n",
      "- This IS expected if you are initializing BertModel from the checkpoint of a model trained on another task or with another architecture (e.g. initializing a BertForSequenceClassification model from a BertForPreTraining model).\n",
      "- This IS NOT expected if you are initializing BertModel from the checkpoint of a model that you expect to be exactly identical (initializing a BertForSequenceClassification model from a BertForSequenceClassification model).\n"
     ]
    }
   ],
   "source": [
    "_PROTBERT_TOKENIZER = BertTokenizer.from_pretrained(\"Rostlab/prot_bert\", do_lower_case=False )\n",
    "_PROTBERT_MODEL = BertModel.from_pretrained(\"Rostlab/prot_bert\")"
   ]
  },
  {
   "cell_type": "markdown",
   "id": "980c72d3",
   "metadata": {},
   "source": [
    "### Load in the Data"
   ]
  },
  {
   "cell_type": "code",
   "execution_count": 120,
   "id": "74d8deb7",
   "metadata": {},
   "outputs": [
    {
     "data": {
      "text/plain": [
       "36693"
      ]
     },
     "execution_count": 120,
     "metadata": {},
     "output_type": "execute_result"
    }
   ],
   "source": [
    "vdjdb = pd.read_csv(\"vdjdb_12032022.tsv\", sep='\\t')\n",
    "unique_cdr3s = vdjdb['CDR3'].unique()\n",
    "len(unique_cdr3s)"
   ]
  },
  {
   "cell_type": "code",
   "execution_count": 125,
   "id": "a9095fb9",
   "metadata": {},
   "outputs": [],
   "source": [
    "# Helper Function for Aggregating Data\n",
    "def feature_dist(df, feature, asc=False):\n",
    "    counts = dict(Counter(df[feature]))\n",
    "    df = pd.DataFrame(list(counts.items()), columns = [str(feature), 'Frequency'])\n",
    "    return df.sort_values(by='Frequency', ascending=asc).reset_index(drop=True)"
   ]
  },
  {
   "cell_type": "code",
   "execution_count": 155,
   "id": "5c73af7a",
   "metadata": {},
   "outputs": [],
   "source": [
    "sorted_df = feature_dist(vdjdb, \"CDR3\")\n",
    "target_df = sorted_df[sorted_df['Frequency'] > 2]"
   ]
  },
  {
   "cell_type": "markdown",
   "id": "5cc4c13d",
   "metadata": {},
   "source": [
    "### Sequence Similarity Metrics"
   ]
  },
  {
   "cell_type": "code",
   "execution_count": 175,
   "id": "d921932d",
   "metadata": {},
   "outputs": [],
   "source": [
    " def embed(sequence, tokenizer=_PROTBERT_TOKENIZER, encoder=_PROTBERT_MODEL):\n",
    "        encoded_input = tokenizer(\" \".join(sequence), return_tensors='pt')\n",
    "        output = encoder(**encoded_input)\n",
    "        return torch.mean(output.last_hidden_state, 1).detach().numpy()[0]\n",
    "\n",
    "def similarity(emb1, emb2):\n",
    "    return np.dot(emb1, emb2) / (np.linalg.norm(emb1)*np.linalg.norm(emb2))"
   ]
  },
  {
   "cell_type": "code",
   "execution_count": 183,
   "id": "8e54b2ee",
   "metadata": {},
   "outputs": [],
   "source": [
    "### Find the Similarity of Epitopes that share a common TCR\n",
    "\n",
    "ingroup_sims = []\n",
    "for cdr3 in target_df['CDR3']:\n",
    "    epitopes = vdjdb[vdjdb['CDR3']==cdr3]['Epitope'].unique()\n",
    "    pairs = [(epi1, epi2) for idx, epi1 in enumerate(epitopes) for epi2 in epitopes[idx + 1:]]\n",
    "    for pair in pairs:\n",
    "        ingroup_sims += [similarity(embed(pair[0]), embed(pair[1]))]"
   ]
  },
  {
   "cell_type": "code",
   "execution_count": 188,
   "id": "c3ef6130",
   "metadata": {},
   "outputs": [
    {
     "data": {
      "image/png": "[encoded data removed]",
      "text/plain": [
       "<Figure size 640x480 with 1 Axes>"
      ]
     },
     "metadata": {},
     "output_type": "display_data"
    }
   ],
   "source": [
    "plt.hist(ingroup_sims)\n",
    "plt.title('In-TCR Group')\n",
    "plt.xlabel('Embedding Similarity')\n",
    "plt.ylabel('Frequency (Count)')\n",
    "plt.show()"
   ]
  },
  {
   "cell_type": "code",
   "execution_count": 191,
   "id": "ac2202ee",
   "metadata": {},
   "outputs": [],
   "source": [
    "### Find the Similarity of Epitopes that do not share a TCR\n",
    "\n",
    "outgroup_sims = []\n",
    "tcr_pairs = [(tcr1, tcr2) for idx, tcr1 in enumerate(target_df['CDR3']) for tcr2 in target_df['CDR3'][idx + 1:]]\n",
    "for tcr_pair in random.sample(tcr_pairs, 10):\n",
    "    epi1 = vdjdb[vdjdb['CDR3']==tcr_pair[0]]['Epitope'].unique()\n",
    "    epi2 = vdjdb[vdjdb['CDR3']==tcr_pair[1]]['Epitope'].unique()\n",
    "\n",
    "#    for pair in pairs:\n",
    "#        ingroup_sims += [similarity(embed(pair[0]), embed(pair[1]))]"
   ]
  },
  {
   "cell_type": "code",
   "execution_count": 193,
   "id": "a7a533e0",
   "metadata": {},
   "outputs": [
    {
     "data": {
      "text/plain": [
       "1013176"
      ]
     },
     "execution_count": 193,
     "metadata": {},
     "output_type": "execute_result"
    }
   ],
   "source": [
    "len(tcr_pairs)"
   ]
  },
  {
   "cell_type": "code",
   "execution_count": null,
   "id": "2715e15b",
   "metadata": {},
   "outputs": [],
   "source": []
  }
 ],
 "metadata": {
  "kernelspec": {
   "display_name": "Python 3 (ipykernel)",
   "language": "python",
   "name": "python3"
  },
  "language_info": {
   "codemirror_mode": {
    "name": "ipython",
    "version": 3
   },
   "file_extension": ".py",
   "mimetype": "text/x-python",
   "name": "python",
   "nbconvert_exporter": "python",
   "pygments_lexer": "ipython3",
   "version": "3.10.6"
  }
 },
 "nbformat": 4,
 "nbformat_minor": 5
}
